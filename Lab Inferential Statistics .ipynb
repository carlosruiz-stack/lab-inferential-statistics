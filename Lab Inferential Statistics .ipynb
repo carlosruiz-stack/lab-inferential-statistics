{
 "cells": [
  {
   "cell_type": "code",
   "execution_count": 3,
   "id": "72830611",
   "metadata": {},
   "outputs": [],
   "source": [
    "import math \n",
    "from scipy.stats import t "
   ]
  },
  {
   "cell_type": "markdown",
   "id": "d29c15ae",
   "metadata": {},
   "source": [
    "It is assumed that the mean systolic blood pressure is μ = 120 mm Hg. In the Honolulu Heart Study, a sample of n = 100 people had an average systolic blood pressure of 130.1 mm Hg with a standard deviation of 21.21 mm Hg. Is the group significantly different (with respect to systolic blood pressure!) from the regular population?\n",
    "\n",
    "Set up the hypothesis test.\n",
    "Write down all the steps followed for setting up the test.\n",
    "Calculate the test statistic by hand and also code it in Python. It should be 4.76190. We will take a look at how to make decisions based on this calculated value."
   ]
  },
  {
   "cell_type": "code",
   "execution_count": 4,
   "id": "c8c50cf6",
   "metadata": {},
   "outputs": [],
   "source": [
    "# The null hypothesis (H0) is that the mean systolic blood pressure of the group is equal to the mean systolic blood pressure of the population"
   ]
  },
  {
   "cell_type": "code",
   "execution_count": 5,
   "id": "080aa312",
   "metadata": {},
   "outputs": [],
   "source": [
    "# The alternative hypothesis (Ha): The mean systolic blood pressure of the group is significantly different from the mean systolic blood pressure of the regular population. "
   ]
  },
  {
   "cell_type": "code",
   "execution_count": 6,
   "id": "513ba842",
   "metadata": {},
   "outputs": [],
   "source": [
    "# Since we are not provided with the level of significante (alpha), we will assume a confidence level of 95% "
   ]
  },
  {
   "cell_type": "code",
   "execution_count": 7,
   "id": "95723b30",
   "metadata": {},
   "outputs": [],
   "source": [
    "# We provide a summary of the population and the sample parameters, for a sample size of n = 100 elements: "
   ]
  },
  {
   "cell_type": "markdown",
   "id": "6939cfd0",
   "metadata": {},
   "source": [
    "sample_mean = 130.1\n",
    "population_mean = 120\n",
    "sample_stdev = 21.21\n",
    "n = 100"
   ]
  },
  {
   "cell_type": "code",
   "execution_count": 8,
   "id": "6a85dc80",
   "metadata": {},
   "outputs": [
    {
     "name": "stdout",
     "output_type": "stream",
     "text": [
      "Test Statistic: 4.7619\n"
     ]
    }
   ],
   "source": [
    "sample_mean = 130.1\n",
    "population_mean = 120\n",
    "sample_stdev = 21.21\n",
    "n = 100\n",
    "\n",
    "test_statistic = (sample_mean - population_mean) / (sample_stdev / math.sqrt(n))\n",
    "print(\"Test Statistic:\", round(test_statistic, 5))"
   ]
  },
  {
   "cell_type": "code",
   "execution_count": 9,
   "id": "98a08e6c",
   "metadata": {},
   "outputs": [],
   "source": [
    "# We have calculated the t-student test statistic for a double-tail distribution, being equal to 4.7619 "
   ]
  },
  {
   "cell_type": "code",
   "execution_count": 10,
   "id": "2f51a725",
   "metadata": {},
   "outputs": [],
   "source": [
    "# Now, we search for the t-value in the t-student table, in this case, we have a confidence level of 95% and n-1 = 99 degrees of freedom"
   ]
  },
  {
   "cell_type": "code",
   "execution_count": 11,
   "id": "f1771d0a",
   "metadata": {},
   "outputs": [],
   "source": [
    "# In this case, the t-value is equal to t-value: 1.984"
   ]
  },
  {
   "cell_type": "code",
   "execution_count": 12,
   "id": "8ed241cc",
   "metadata": {},
   "outputs": [],
   "source": [
    "# Since the test statistic (4.7619) is greater than the critical value (1.984), we reject the null hypothesis, so we can conclude that there is a significant difference between the population mean and the sample mean regarding the systolic blood pressure. "
   ]
  },
  {
   "cell_type": "code",
   "execution_count": 13,
   "id": "566f38f3",
   "metadata": {},
   "outputs": [],
   "source": [
    "# Here is the code line to calculate the value"
   ]
  },
  {
   "cell_type": "code",
   "execution_count": 14,
   "id": "b4775e3b",
   "metadata": {},
   "outputs": [
    {
     "name": "stdout",
     "output_type": "stream",
     "text": [
      "t-value: 1.984\n"
     ]
    }
   ],
   "source": [
    "degrees_of_freedom = 99\n",
    "confidence_level = 0.95\n",
    "\n",
    "t_value = t.ppf((1 + confidence_level) / 2, degrees_of_freedom)\n",
    "print(\"t-value:\", round(t_value, 3))"
   ]
  },
  {
   "cell_type": "code",
   "execution_count": null,
   "id": "507b9926",
   "metadata": {},
   "outputs": [],
   "source": []
  }
 ],
 "metadata": {
  "kernelspec": {
   "display_name": "Python 3 (ipykernel)",
   "language": "python",
   "name": "python3"
  },
  "language_info": {
   "codemirror_mode": {
    "name": "ipython",
    "version": 3
   },
   "file_extension": ".py",
   "mimetype": "text/x-python",
   "name": "python",
   "nbconvert_exporter": "python",
   "pygments_lexer": "ipython3",
   "version": "3.9.13"
  }
 },
 "nbformat": 4,
 "nbformat_minor": 5
}
